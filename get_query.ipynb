{
 "cells": [
  {
   "cell_type": "code",
   "execution_count": 1,
   "metadata": {},
   "outputs": [],
   "source": [
    "import os\n",
    "import anthropic\n",
    "from dotenv import load_dotenv"
   ]
  },
  {
   "cell_type": "code",
   "execution_count": 2,
   "metadata": {},
   "outputs": [],
   "source": [
    "load_dotenv()\n",
    "\n",
    "ANTHROPIC_API_KEY = os.getenv(\"ANTHROPIC_API_KEY\") # get this from Nate"
   ]
  },
  {
   "cell_type": "code",
   "execution_count": 9,
   "metadata": {},
   "outputs": [],
   "source": [
    "generate_user_prompt = \"\"\"\n",
    "Could you generate 20 Singaporean profiles between the age of 18 to 70, please include their name, age, gender, lifestyle, occupation, fitness, and app_usage_level (a random number from 0-100).\n",
    "\n",
    "Feel free to use as many actual Singaporeans in your answer as possible. \n",
    "\n",
    "Return the answer in json list format denoted in triple backtick below\n",
    "```\n",
    "[\n",
    "{\"Name\": Nate Lee, \"Age\": 36, \"Gender\": \"Male\", \"Lifestyle\": \"Very introverted, loves good food, a father of a 16 month daughter\", \"Occupation\": \"Software Engineer\", \"Fitness\": \"Good, exercises twice a week and tries to be active\", \"app_usage_level\": 40},\n",
    "{...},\n",
    "{...},\n",
    "{...}\n",
    "]\n",
    "```\n",
    "\"\"\"\n",
    "\n",
    "user_response = anthropic.Anthropic().messages.create(\n",
    "    model=\"claude-3-5-sonnet-20240620\", #claude-3-haiku-20240307\n",
    "    max_tokens=4096,\n",
    "    messages=[\n",
    "        {\"role\": \"user\", \"content\": generate_user_prompt}\n",
    "    ]\n",
    ")"
   ]
  },
  {
   "cell_type": "code",
   "execution_count": 4,
   "metadata": {},
   "outputs": [
    {
     "name": "stdout",
     "output_type": "stream",
     "text": [
      "{'Name': 'Tan Wei Ling', 'Age': 28, 'Gender': 'Female', 'Lifestyle': 'Busy professional, enjoys weekend brunches with friends', 'Occupation': 'Marketing Executive', 'Fitness': 'Average, occasional yoga classes', 'app_usage_level': 75}\n",
      "{'Name': 'Muhammad Faizal bin Ibrahim', 'Age': 42, 'Gender': 'Male', 'Lifestyle': 'Family-oriented, loves fishing trips', 'Occupation': 'Civil Servant', 'Fitness': 'Moderate, plays badminton weekly', 'app_usage_level': 30}\n",
      "{'Name': 'Chua Mei Ling', 'Age': 65, 'Gender': 'Female', 'Lifestyle': 'Retired, active in community activities', 'Occupation': 'Retired Teacher', 'Fitness': 'Good for age, daily morning walks', 'app_usage_level': 15}\n",
      "{'Name': 'Siti Nurhaliza binte Abdullah', 'Age': 22, 'Gender': 'Female', 'Lifestyle': 'Outgoing student, passionate about K-pop', 'Occupation': 'University Student', 'Fitness': 'Good, regular gym-goer', 'app_usage_level': 90}\n",
      "{'Name': 'Lim Teck Seng', 'Age': 55, 'Gender': 'Male', 'Lifestyle': 'Workaholic, enjoys golfing on weekends', 'Occupation': 'Business Owner', 'Fitness': 'Fair, occasional golf games', 'app_usage_level': 40}\n",
      "{'Name': 'Priya Chandran', 'Age': 33, 'Gender': 'Female', 'Lifestyle': 'Health-conscious, loves outdoor activities', 'Occupation': 'Nutritionist', 'Fitness': 'Excellent, practices yoga and runs daily', 'app_usage_level': 60}\n",
      "{'Name': 'Joseph Ng', 'Age': 19, 'Gender': 'Male', 'Lifestyle': 'Tech-savvy, avid gamer', 'Occupation': 'Polytechnic Student', 'Fitness': 'Poor, sedentary lifestyle', 'app_usage_level': 95}\n",
      "{'Name': 'Zainab Binte Yusof', 'Age': 48, 'Gender': 'Female', 'Lifestyle': 'Busy mother of three, active in school PTA', 'Occupation': 'Homemaker', 'Fitness': 'Moderate, tries to stay active with kids', 'app_usage_level': 50}\n",
      "{'Name': 'Chong Wei Ming', 'Age': 37, 'Gender': 'Male', 'Lifestyle': 'Career-focused, enjoys fine dining', 'Occupation': 'Investment Banker', 'Fitness': 'Average, occasional gym visits', 'app_usage_level': 70}\n",
      "{'Name': 'Grace Teo', 'Age': 29, 'Gender': 'Female', 'Lifestyle': 'Artistic, loves cafe-hopping', 'Occupation': 'Graphic Designer', 'Fitness': 'Fair, casual cycling on weekends', 'app_usage_level': 85}\n",
      "{'Name': 'Rajesh Kumar', 'Age': 52, 'Gender': 'Male', 'Lifestyle': 'Traditional, enjoys reading and classical music', 'Occupation': 'University Professor', 'Fitness': 'Good, daily evening walks', 'app_usage_level': 25}\n",
      "{'Name': 'Lily Wong', 'Age': 70, 'Gender': 'Female', 'Lifestyle': 'Retired, active in senior citizen club', 'Occupation': 'Retired Nurse', 'Fitness': 'Moderate for age, Tai Chi practitioner', 'app_usage_level': 10}\n",
      "{'Name': 'Ahmad bin Hassan', 'Age': 45, 'Gender': 'Male', 'Lifestyle': 'Religious, involved in mosque activities', 'Occupation': 'Taxi Driver', 'Fitness': 'Fair, walks regularly', 'app_usage_level': 35}\n",
      "{'Name': 'Samantha Loh', 'Age': 26, 'Gender': 'Female', 'Lifestyle': 'Social butterfly, foodie', 'Occupation': 'Sales Representative', 'Fitness': 'Good, attends dance classes', 'app_usage_level': 80}\n",
      "{'Name': 'Koh Boon Kiat', 'Age': 61, 'Gender': 'Male', 'Lifestyle': 'Semi-retired, enjoys gardening', 'Occupation': 'Part-time Consultant', 'Fitness': 'Good for age, daily swimming', 'app_usage_level': 20}\n",
      "{'Name': 'Fatimah binte Abdul Rahman', 'Age': 38, 'Gender': 'Female', 'Lifestyle': 'Working mother, balancing career and family', 'Occupation': 'Human Resources Manager', 'Fitness': 'Average, tries to squeeze in quick workouts', 'app_usage_level': 55}\n",
      "{'Name': 'Ryan Tan', 'Age': 24, 'Gender': 'Male', 'Lifestyle': 'Fitness enthusiast, social media influencer', 'Occupation': 'Personal Trainer', 'Fitness': 'Excellent, daily intense workouts', 'app_usage_level': 100}\n",
      "{'Name': 'Lakshmi Devi', 'Age': 57, 'Gender': 'Female', 'Lifestyle': 'Spiritual, volunteers at temple', 'Occupation': 'Accountant', 'Fitness': 'Moderate, practices yoga', 'app_usage_level': 30}\n",
      "{'Name': 'Benjamin Goh', 'Age': 32, 'Gender': 'Male', 'Lifestyle': 'Startup founder, workaholic', 'Occupation': 'Entrepreneur', 'Fitness': 'Poor, long work hours with little exercise', 'app_usage_level': 75}\n",
      "{'Name': 'Nurul Izzah binte Ismail', 'Age': 18, 'Gender': 'Female', 'Lifestyle': 'Studious, aspiring doctor', 'Occupation': 'Junior College Student', 'Fitness': 'Good, school track team member', 'app_usage_level': 65}\n"
     ]
    }
   ],
   "source": [
    "import re \n",
    "import json\n",
    "\n",
    "match = re.search(r'```(.*?)```', user_response.content[0].text, re.DOTALL)\n",
    "if match:\n",
    "    json_list = match.group(1).strip()\n",
    "else:\n",
    "    json_list = \"No JSON list found.\"\n",
    "\n",
    "profiles_list = json.loads(json_list)\n",
    "\n",
    "for profile in profiles_list:\n",
    "    print(profile)"
   ]
  },
  {
   "cell_type": "code",
   "execution_count": 5,
   "metadata": {},
   "outputs": [],
   "source": [
    "all_task = [\"Walking 1000 steps\", \"Sleep 8 hours\", \"Jogging for 30 minutes\", \"Yoga for 1 hour\", \"Cycling for 45 minutes\", \"Swimming for 1 hour\", \n",
    "            \"Meditation for 20 minutes\", \"Strength training for 1 hour\", \"Dancing for 30 minutes\", \"Hiking for 2 hours\", \"Playing basketball for 1 hour\", \n",
    "            \"Playing soccer for 1.5 hours\", \"Rowing for 30 minutes\"]\n",
    "\n",
    "all_task_str = str(all_task)\n"
   ]
  },
  {
   "cell_type": "code",
   "execution_count": 6,
   "metadata": {},
   "outputs": [
    {
     "name": "stdout",
     "output_type": "stream",
     "text": [
      "{'Name': 'Tan Wei Ling', 'Age': 28, 'Gender': 'Female', 'Lifestyle': 'Busy professional, enjoys weekend brunches with friends', 'Occupation': 'Marketing Executive', 'Fitness': 'Average, occasional yoga classes', 'app_usage_level': 75}\n",
      "{'Activity': 'Walking 1000 steps', 'Participation': 0.8, 'Like': 1}\n",
      "{'Activity': 'Sleep 8 hours', 'Participation': 0.7, 'Like': 1}\n",
      "{'Activity': 'Jogging for 30 minutes', 'Participation': 0.6, 'Like': 1}\n",
      "{'Activity': 'Yoga for 1 hour', 'Participation': 0.7, 'Like': 1}\n",
      "{'Activity': 'Cycling for 45 minutes', 'Participation': 0.6, 'Like': 1}\n",
      "{'Activity': 'Swimming for 1 hour', 'Participation': 0.5, 'Like': 0}\n",
      "{'Activity': 'Meditation for 20 minutes', 'Participation': 0.7, 'Like': 1}\n",
      "{'Activity': 'Strength training for 1 hour', 'Participation': 0.6, 'Like': 1}\n",
      "{'Activity': 'Dancing for 30 minutes', 'Participation': 0.5, 'Like': 0}\n",
      "{'Activity': 'Hiking for 2 hours', 'Participation': 0.6, 'Like': 1}\n",
      "{'Activity': 'Playing basketball for 1 hour', 'Participation': 0.4, 'Like': -1}\n",
      "{'Activity': 'Playing soccer for 1.5 hours', 'Participation': 0.4, 'Like': -1}\n",
      "{'Activity': 'Rowing for 30 minutes', 'Participation': 0.5, 'Like': 0}\n"
     ]
    }
   ],
   "source": [
    "import re \n",
    "import json\n",
    "\n",
    "\n",
    "def generate_preference(profile):\n",
    "    prompt_engineering = \"For the below user in triple backticks\\n\\n\" +\\\n",
    "                          f\"```{profile}```\\n\\n\" +\\\n",
    "                          \"Making use of all user profile information, including Age, Gender, Lifestyle, Occupation, Fitness, \"+\\\n",
    "                          \"and app_usage_level (how much the user uses the app).\" +\\\n",
    "                          \"Generate participation probability (1 for 100 percent completion probability, 0 for 0 percent completion probability) \" +\\\n",
    "                          \"and 'LIKE' for these tasks below (1 for like, 0 for not answered, -1 for dislike) when these tasks are recommended to a user via an app.\"+\\\n",
    "                          \"Tasks are in triple backticks below.\\n\"+\\\n",
    "                          f\"```{all_task_str}```\\n\\n\"+\\\n",
    "                          \"Return your answer in JSON format as shown in the example below:\\n\"+\\\n",
    "                          \"```\" +\\\n",
    "                          \"[{'Activity': 'Walking 1000 steps', 'Participation': (0 to 1), 'Like': (-1 to 1)}, {'Activity': 'Sleep 8 hours', ...}, ...]\" +\\\n",
    "                          \"```\"\n",
    "    \n",
    "\n",
    "    participation_response = anthropic.Anthropic().messages.create(\n",
    "        model=\"claude-3-haiku-20240307\",\n",
    "        max_tokens=4096,\n",
    "        messages=[\n",
    "            {\"role\": \"user\", \"content\": prompt_engineering}\n",
    "        ]\n",
    "    )\n",
    "\n",
    "    match = re.search(r'```(.*?)```', participation_response.content[0].text, re.DOTALL)\n",
    "    if match:\n",
    "        json_list = match.group(1).strip()\n",
    "    else:\n",
    "        json_list = \"No JSON list found.\"\n",
    "\n",
    "    user_task_interactions = json.loads(json_list)\n",
    "\n",
    "    print(profile)\n",
    "\n",
    "    for interaction in user_task_interactions:\n",
    "        print(interaction)\n",
    "\n",
    "profile_0 = profiles_list[0]\n",
    "generate_preference(profile_0)"
   ]
  },
  {
   "cell_type": "code",
   "execution_count": 7,
   "metadata": {},
   "outputs": [
    {
     "name": "stdout",
     "output_type": "stream",
     "text": [
      "{'Name': 'Muhammad Faizal bin Ibrahim', 'Age': 42, 'Gender': 'Male', 'Lifestyle': 'Family-oriented, loves fishing trips', 'Occupation': 'Civil Servant', 'Fitness': 'Moderate, plays badminton weekly', 'app_usage_level': 30}\n",
      "{'Activity': 'Walking 1000 steps', 'Participation': 0.8, 'Like': 1}\n",
      "{'Activity': 'Sleep 8 hours', 'Participation': 0.9, 'Like': 1}\n",
      "{'Activity': 'Jogging for 30 minutes', 'Participation': 0.6, 'Like': 0}\n",
      "{'Activity': 'Yoga for 1 hour', 'Participation': 0.7, 'Like': 1}\n",
      "{'Activity': 'Cycling for 45 minutes', 'Participation': 0.7, 'Like': 1}\n",
      "{'Activity': 'Swimming for 1 hour', 'Participation': 0.5, 'Like': 0}\n",
      "{'Activity': 'Meditation for 20 minutes', 'Participation': 0.8, 'Like': 1}\n",
      "{'Activity': 'Strength training for 1 hour', 'Participation': 0.6, 'Like': 0}\n",
      "{'Activity': 'Dancing for 30 minutes', 'Participation': 0.7, 'Like': 1}\n",
      "{'Activity': 'Hiking for 2 hours', 'Participation': 0.8, 'Like': 1}\n",
      "{'Activity': 'Playing basketball for 1 hour', 'Participation': 0.5, 'Like': 0}\n",
      "{'Activity': 'Playing soccer for 1.5 hours', 'Participation': 0.6, 'Like': 0}\n",
      "{'Activity': 'Rowing for 30 minutes', 'Participation': 0.6, 'Like': 0}\n"
     ]
    }
   ],
   "source": [
    "profile_1 = profiles_list[1]\n",
    "generate_preference(profile_1)\n"
   ]
  },
  {
   "cell_type": "code",
   "execution_count": 8,
   "metadata": {},
   "outputs": [
    {
     "name": "stdout",
     "output_type": "stream",
     "text": [
      "{'Name': 'Chua Mei Ling', 'Age': 65, 'Gender': 'Female', 'Lifestyle': 'Retired, active in community activities', 'Occupation': 'Retired Teacher', 'Fitness': 'Good for age, daily morning walks', 'app_usage_level': 15}\n",
      "{'Activity': 'Walking 1000 steps', 'Participation': 0.9, 'Like': 1}\n",
      "{'Activity': 'Sleep 8 hours', 'Participation': 0.7, 'Like': 1}\n",
      "{'Activity': 'Jogging for 30 minutes', 'Participation': 0.6, 'Like': 0}\n",
      "{'Activity': 'Yoga for 1 hour', 'Participation': 0.7, 'Like': 1}\n",
      "{'Activity': 'Cycling for 45 minutes', 'Participation': 0.6, 'Like': 1}\n",
      "{'Activity': 'Swimming for 1 hour', 'Participation': 0.6, 'Like': 1}\n",
      "{'Activity': 'Meditation for 20 minutes', 'Participation': 0.8, 'Like': 1}\n",
      "{'Activity': 'Strength training for 1 hour', 'Participation': 0.5, 'Like': 0}\n",
      "{'Activity': 'Dancing for 30 minutes', 'Participation': 0.6, 'Like': 0}\n",
      "{'Activity': 'Hiking for 2 hours', 'Participation': 0.7, 'Like': 1}\n",
      "{'Activity': 'Playing basketball for 1 hour', 'Participation': 0.3, 'Like': -1}\n",
      "{'Activity': 'Playing soccer for 1.5 hours', 'Participation': 0.4, 'Like': -1}\n",
      "{'Activity': 'Rowing for 30 minutes', 'Participation': 0.6, 'Like': 1}\n"
     ]
    }
   ],
   "source": [
    "profile_2 = profiles_list[2]\n",
    "generate_preference(profile_2)\n"
   ]
  },
  {
   "cell_type": "code",
   "execution_count": null,
   "metadata": {},
   "outputs": [],
   "source": []
  }
 ],
 "metadata": {
  "kernelspec": {
   "display_name": "base",
   "language": "python",
   "name": "python3"
  },
  "language_info": {
   "codemirror_mode": {
    "name": "ipython",
    "version": 3
   },
   "file_extension": ".py",
   "mimetype": "text/x-python",
   "name": "python",
   "nbconvert_exporter": "python",
   "pygments_lexer": "ipython3",
   "version": "3.12.4"
  }
 },
 "nbformat": 4,
 "nbformat_minor": 2
}
